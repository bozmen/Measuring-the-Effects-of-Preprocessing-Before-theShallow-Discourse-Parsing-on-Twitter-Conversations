{
 "cells": [
  {
   "cell_type": "code",
   "execution_count": 2,
   "metadata": {},
   "outputs": [],
   "source": [
    "import os\n",
    "from difflib import SequenceMatcher\n",
    "from tqdm import tqdm\n",
    "\n",
    "INPUT_RAW = '/home/burak/Desktop/IM/im/data/tw_data/PDTB_Annotations_20200205__/raw'\n",
    "ANNOTATED_FOLDER = '/home/burak/Desktop/IM/im/data/tw_data/PDTB_Annotations_20200205__/ann/raw'\n",
    "CLEANED_ANNOTATED_FOLDER = '/home/burak/Desktop/IM/im/data/tw_data/PDTB_Annotations_20200205__/cleaned/ann'"
   ]
  },
  {
   "cell_type": "code",
   "execution_count": 3,
   "metadata": {},
   "outputs": [],
   "source": [
    "def clean_file(input_raw, input_raw_annotation, output_annotation_clean):\n",
    "    with open(input_raw, 'r', encoding='utf8') as file:\n",
    "        file_content = file.read()\n",
    "        new_thread = []\n",
    "        for line in file_content.split('\\n'):\n",
    "            if (len(line) == 0):\n",
    "                break\n",
    "            line_pieces = line.split('\\t')\n",
    "            if len(line_pieces) > 1:\n",
    "                handle = line_pieces[0]\n",
    "                # +1 is for the tab.\n",
    "                new_thread.append(line_pieces[1])\n",
    "            else:\n",
    "                new_thread.append(line)\n",
    "            new_thread.append('\\n')\n",
    "        new_thread = ''.join(new_thread)\n",
    "        \n",
    "        # autojunk is too optimal\n",
    "        sm = SequenceMatcher(None, file_content, new_thread, autojunk=False)\n",
    "        ops = sm.get_opcodes()\n",
    "        with open(input_raw_annotation, encoding='utf8') as ann_file:\n",
    "            ann_file_content = ann_file.read()\n",
    "            new_content = []\n",
    "            _start = 0\n",
    "            _end = 1\n",
    "            _in_number = False\n",
    "            for i, ann_char  in enumerate(ann_file_content):\n",
    "                if not _in_number:\n",
    "                    if ann_char.isdigit():\n",
    "                        _start = i\n",
    "                        _in_number = True\n",
    "                    else:\n",
    "                        new_content.append(ann_char)\n",
    "                else:\n",
    "                    if not ann_char.isdigit():\n",
    "                        _end = i\n",
    "                        _in_number = False\n",
    "                        if not ann_file_content[_start - 1].isalpha():\n",
    "                            num = int(ann_file_content[_start:_end])\n",
    "                            actual_num = len(file_content.encode('utf-16le')[:(num * 2)].decode('utf-16le'))\n",
    "                            for tag, i1, i2, j1, j2 in sm.get_opcodes():\n",
    "                                if actual_num >= i1 and actual_num <= i2:\n",
    "                                    if tag == 'equal':\n",
    "                                        new_num = num - (i1 - j1)\n",
    "                                        break\n",
    "                            new_content.append(str(new_num))\n",
    "                            new_content.append(ann_char)\n",
    "                        _start = _end + 1\n",
    "                        continue\n",
    "            with open(output_annotation_clean, 'w', encoding='utf8') as cleaned_ann:\n",
    "                cleaned_ann.write(''.join(new_content))"
   ]
  },
  {
   "cell_type": "code",
   "execution_count": 7,
   "metadata": {},
   "outputs": [
    {
     "name": "stderr",
     "output_type": "stream",
     "text": [
      " 50%|█████     | 93/185 [00:28<00:18,  5.08it/s]"
     ]
    },
    {
     "name": "stdout",
     "output_type": "stream",
     "text": [
      "093_950279658192347136.branch49.txt.username_text_tabseparated\n"
     ]
    },
    {
     "name": "stderr",
     "output_type": "stream",
     "text": [
      " 66%|██████▋   | 123/185 [00:32<00:11,  5.31it/s]"
     ]
    },
    {
     "name": "stdout",
     "output_type": "stream",
     "text": [
      "095_950296746743169024.branch3.txt.username_text_tabseparated\n"
     ]
    },
    {
     "name": "stderr",
     "output_type": "stream",
     "text": [
      "100%|██████████| 185/185 [00:54<00:00,  3.37it/s]\n"
     ]
    }
   ],
   "source": [
    "files = os.listdir('data/tw_data/PDTB_Annotations_20200205__/raw/')\n",
    "for file_name in tqdm(files):\n",
    "    try:\n",
    "        clean_file(\n",
    "            INPUT_RAW + '/' + file_name,\n",
    "            ANNOTATED_FOLDER + '/' + file_name,\n",
    "            CLEANED_ANNOTATED_FOLDER + '/' + file_name\n",
    "        )\n",
    "    except:\n",
    "        print(file_name)"
   ]
  },
  {
   "cell_type": "code",
   "execution_count": 7,
   "metadata": {},
   "outputs": [],
   "source": [
    "clean_file('030_948126677648932869.branch4.txt.username_text_tabseparated')"
   ]
  },
  {
   "cell_type": "code",
   "execution_count": null,
   "metadata": {},
   "outputs": [],
   "source": []
  }
 ],
 "metadata": {
  "kernelspec": {
   "display_name": "Python 3",
   "language": "python",
   "name": "python3"
  },
  "language_info": {
   "codemirror_mode": {
    "name": "ipython",
    "version": 3
   },
   "file_extension": ".py",
   "mimetype": "text/x-python",
   "name": "python",
   "nbconvert_exporter": "python",
   "pygments_lexer": "ipython3",
   "version": "3.9.1"
  }
 },
 "nbformat": 4,
 "nbformat_minor": 4
}
